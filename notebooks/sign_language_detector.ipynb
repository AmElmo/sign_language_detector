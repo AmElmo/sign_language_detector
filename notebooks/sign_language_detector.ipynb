{
 "cells": [
  {
   "cell_type": "code",
   "execution_count": null,
   "metadata": {},
   "outputs": [],
   "source": []
  }
 ],
 "metadata": {
  "kernelspec": {
   "display_name": "Python 3.8.12 64-bit ('shims')",
   "language": "python",
   "name": "python3"
  },
  "language_info": {
   "name": "python",
   "version": "3.8.12"
  },
  "orig_nbformat": 4,
  "vscode": {
   "interpreter": {
    "hash": "b566ac71cdfc16267265dee2636b7f737530ec6a03a2d34aeaa4aaf93d5ca50f"
   }
  }
 },
 "nbformat": 4,
 "nbformat_minor": 2
}
